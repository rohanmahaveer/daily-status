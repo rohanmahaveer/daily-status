{
  "nbformat": 4,
  "nbformat_minor": 0,
  "metadata": {
    "colab": {
      "name": "day 1 session 2 practise.ipynb",
      "provenance": [],
      "authorship_tag": "ABX9TyO19Iazt+h9V9eIPG8jdh6W",
      "include_colab_link": true
    },
    "kernelspec": {
      "name": "python3",
      "display_name": "Python 3"
    }
  },
  "cells": [
    {
      "cell_type": "markdown",
      "metadata": {
        "id": "view-in-github",
        "colab_type": "text"
      },
      "source": [
        "<a href=\"https://colab.research.google.com/github/rohanmahaveer/Application_of_Python_Programming_in_DA_and_ML/blob/master/day_1_session_2_practise.ipynb\" target=\"_parent\"><img src=\"https://colab.research.google.com/assets/colab-badge.svg\" alt=\"Open In Colab\"/></a>"
      ]
    },
    {
      "cell_type": "markdown",
      "metadata": {
        "id": "MILXESxAgwh6",
        "colab_type": "text"
      },
      "source": [
        "**Python Program to find the factorial of a number using loop.**"
      ]
    },
    {
      "cell_type": "code",
      "metadata": {
        "id": "FAoKMO52hJSV",
        "colab_type": "code",
        "colab": {
          "base_uri": "https://localhost:8080/",
          "height": 68
        },
        "outputId": "26b352a0-d7e3-4c86-911b-59fd97f9f880"
      },
      "source": [
        "n=int(input(\"Enter number:\"))\n",
        "fact=1\n",
        "\n",
        "while(n>0):\n",
        "    fact=fact*n\n",
        "    n=n-1\n",
        "print(\"Factorial of the number is: \")\n",
        "print(fact)\n",
        "\n"
      ],
      "execution_count": 3,
      "outputs": [
        {
          "output_type": "stream",
          "text": [
            "Enter number:5\n",
            "Factorial of the number is: \n",
            "120\n"
          ],
          "name": "stdout"
        }
      ]
    },
    {
      "cell_type": "markdown",
      "metadata": {
        "id": "zQHTMKM_h3EG",
        "colab_type": "text"
      },
      "source": [
        "**Python Program to reverse a number using loop** "
      ]
    },
    {
      "cell_type": "code",
      "metadata": {
        "id": "pHJjp41niKCa",
        "colab_type": "code",
        "colab": {
          "base_uri": "https://localhost:8080/",
          "height": 68
        },
        "outputId": "e24a9df8-3107-49f8-c90e-956b906b18be"
      },
      "source": [
        "r=0\n",
        "n=int(input(\"Enter a number: \"))\n",
        "while(n>0):\n",
        "    dig=n%10\n",
        "    r=r*10+dig\n",
        "    n=n//10\n",
        "print(\"The reversed no  is:\")\n",
        "print(r)\n"
      ],
      "execution_count": 4,
      "outputs": [
        {
          "output_type": "stream",
          "text": [
            "Enter a number: 12222223\n",
            "The reversed no  is:\n",
            "32222221\n"
          ],
          "name": "stdout"
        }
      ]
    },
    {
      "cell_type": "markdown",
      "metadata": {
        "id": "zENmGzmeiR3U",
        "colab_type": "text"
      },
      "source": [
        "**Write a Python program to construct the following pattern, using a nested for loop.**"
      ]
    },
    {
      "cell_type": "code",
      "metadata": {
        "id": "NOZ1_dy0iaJq",
        "colab_type": "code",
        "colab": {
          "base_uri": "https://localhost:8080/",
          "height": 187
        },
        "outputId": "7f19c41c-6f47-4305-d4c4-a746ac774437"
      },
      "source": [
        "n=5;\n",
        "for i in range(n):\n",
        "    for j in range(i):\n",
        "        print ('* ', end=\"\")\n",
        "    print('')\n",
        "\n",
        "for i in range(n,0,-1):\n",
        "    for j in range(i):\n",
        "        print('* ', end=\"\")\n",
        "    print('')\n"
      ],
      "execution_count": 5,
      "outputs": [
        {
          "output_type": "stream",
          "text": [
            "\n",
            "* \n",
            "* * \n",
            "* * * \n",
            "* * * * \n",
            "* * * * * \n",
            "* * * * \n",
            "* * * \n",
            "* * \n",
            "* \n"
          ],
          "name": "stdout"
        }
      ]
    },
    {
      "cell_type": "markdown",
      "metadata": {
        "id": "W169b0dvigqq",
        "colab_type": "text"
      },
      "source": [
        "**Python Program to replace all occurrences of ‘a’ with ‘$’ in a string.** "
      ]
    },
    {
      "cell_type": "code",
      "metadata": {
        "id": "f4XoDK5rirbT",
        "colab_type": "code",
        "colab": {
          "base_uri": "https://localhost:8080/",
          "height": 68
        },
        "outputId": "92fa256e-787e-4a4f-baba-33d13d6872ab"
      },
      "source": [
        "string=input(\"Enter string:\")\n",
        "string=string.replace('a','$')\n",
        "string=string.replace('A','$')\n",
        "print(\"Modified string:\")\n",
        "print(string)\n"
      ],
      "execution_count": 6,
      "outputs": [
        {
          "output_type": "stream",
          "text": [
            "Enter string:Aerospace\n",
            "Modified string:\n",
            "$erosp$ce\n"
          ],
          "name": "stdout"
        }
      ]
    },
    {
      "cell_type": "markdown",
      "metadata": {
        "id": "YGn_lS2bi34H",
        "colab_type": "text"
      },
      "source": [
        "**Program to remove the nth index character from a non-empty string.**"
      ]
    },
    {
      "cell_type": "code",
      "metadata": {
        "id": "dli77cNyi_6a",
        "colab_type": "code",
        "colab": {
          "base_uri": "https://localhost:8080/",
          "height": 85
        },
        "outputId": "34716e6c-d212-4530-fd83-e75e804e8744"
      },
      "source": [
        "def remove(string, n):  \n",
        "      first = string[:n]   \n",
        "      last = string[n+1:]  \n",
        "      return first + last\n",
        "string=input(\"Enter the sring:\")\n",
        "n=int(input(\"Enter the index of the character to remove:\"))\n",
        "print(\"Modified string:\")\n",
        "print(remove(string, n))\n"
      ],
      "execution_count": 7,
      "outputs": [
        {
          "output_type": "stream",
          "text": [
            "Enter the sring:hello everyone\n",
            "Enter the index of the character to remove:5\n",
            "Modified string:\n",
            "helloeveryone\n"
          ],
          "name": "stdout"
        }
      ]
    },
    {
      "cell_type": "markdown",
      "metadata": {
        "id": "Vg1t-xq9jMpC",
        "colab_type": "text"
      },
      "source": [
        "**1 Write a program to print the triangle**"
      ]
    },
    {
      "cell_type": "code",
      "metadata": {
        "id": "EO-KzaFdjfsF",
        "colab_type": "code",
        "colab": {
          "base_uri": "https://localhost:8080/",
          "height": 102
        },
        "outputId": "d966ecb0-f77c-48de-8073-8104fb302186"
      },
      "source": [
        "rows = 4\n",
        "for i in range(0, rows+1):\n",
        "    for j in range(i, i+i , 1):\n",
        "        print(j, end=' ')\n",
        "    print()"
      ],
      "execution_count": 8,
      "outputs": [
        {
          "output_type": "stream",
          "text": [
            "\n",
            "1 \n",
            "2 3 \n",
            "3 4 5 \n",
            "4 5 6 7 \n"
          ],
          "name": "stdout"
        }
      ]
    },
    {
      "cell_type": "markdown",
      "metadata": {
        "id": "CHQSGYVqjl1x",
        "colab_type": "text"
      },
      "source": [
        "**2 Enter number 4**"
      ]
    },
    {
      "cell_type": "code",
      "metadata": {
        "id": "Ah_IsSscjsbG",
        "colab_type": "code",
        "colab": {
          "base_uri": "https://localhost:8080/",
          "height": 102
        },
        "outputId": "3771630c-a0a5-4ff6-aea0-e80c2fcd4b66"
      },
      "source": [
        "rows = 4\n",
        "for i in range(0, rows+1):\n",
        "    for j in range(i, i+i , 1):\n",
        "        print('*', end=' ')\n",
        "    print()"
      ],
      "execution_count": 9,
      "outputs": [
        {
          "output_type": "stream",
          "text": [
            "\n",
            "* \n",
            "* * \n",
            "* * * \n",
            "* * * * \n"
          ],
          "name": "stdout"
        }
      ]
    },
    {
      "cell_type": "markdown",
      "metadata": {
        "id": "dcrNAi5jj2vq",
        "colab_type": "text"
      },
      "source": [
        "**3 Enter number 5**\n",
        "\n",
        "\n"
      ]
    },
    {
      "cell_type": "code",
      "metadata": {
        "id": "uzXHqTbFj7Xx",
        "colab_type": "code",
        "colab": {
          "base_uri": "https://localhost:8080/",
          "height": 102
        },
        "outputId": "65ca4e32-bd12-4d67-8646-80141072b76c"
      },
      "source": [
        "rows = 5\n",
        "for i in range(0, rows):\n",
        "    for j in range(rows-i , rows+1 , 1):\n",
        "        print(j, end=' ')\n",
        "    print()"
      ],
      "execution_count": 10,
      "outputs": [
        {
          "output_type": "stream",
          "text": [
            "5 \n",
            "4 5 \n",
            "3 4 5 \n",
            "2 3 4 5 \n",
            "1 2 3 4 5 \n"
          ],
          "name": "stdout"
        }
      ]
    },
    {
      "cell_type": "markdown",
      "metadata": {
        "id": "na1KS0SNkAIn",
        "colab_type": "text"
      },
      "source": [
        "**4  Enter number 5**\n",
        "\n",
        "\n"
      ]
    },
    {
      "cell_type": "code",
      "metadata": {
        "id": "TQLGZWi0kHFb",
        "colab_type": "code",
        "colab": {
          "base_uri": "https://localhost:8080/",
          "height": 119
        },
        "outputId": "6cdc6fd5-fdb4-4a55-89eb-810b0531774c"
      },
      "source": [
        "rows = 5\n",
        "for i in range(0, rows+1):\n",
        "    for j in range(rows-i, 0 , -1):\n",
        "        print(j, end=' ')\n",
        "    print()"
      ],
      "execution_count": 11,
      "outputs": [
        {
          "output_type": "stream",
          "text": [
            "5 4 3 2 1 \n",
            "4 3 2 1 \n",
            "3 2 1 \n",
            "2 1 \n",
            "1 \n",
            "\n"
          ],
          "name": "stdout"
        }
      ]
    },
    {
      "cell_type": "markdown",
      "metadata": {
        "id": "TbcFGmDikM2W",
        "colab_type": "text"
      },
      "source": [
        "**5 Enter number 4**"
      ]
    },
    {
      "cell_type": "code",
      "metadata": {
        "id": "E8Sf1QwokSbX",
        "colab_type": "code",
        "colab": {
          "base_uri": "https://localhost:8080/",
          "height": 136
        },
        "outputId": "d9bb14b0-0c29-46ee-9ca3-9834c7489fbe"
      },
      "source": [
        "rows = 4\n",
        "for i in range(1, rows+1):\n",
        "    for j in range(i, rows+1 , 1):\n",
        "        print(j, end=' ')\n",
        "    print()\n",
        "for i in range(1,rows):\n",
        "  for j in range(rows-i,rows+1,1):\n",
        "    print(j,end=\" \")\n",
        "  print()"
      ],
      "execution_count": 12,
      "outputs": [
        {
          "output_type": "stream",
          "text": [
            "1 2 3 4 \n",
            "2 3 4 \n",
            "3 4 \n",
            "4 \n",
            "3 4 \n",
            "2 3 4 \n",
            "1 2 3 4 \n"
          ],
          "name": "stdout"
        }
      ]
    },
    {
      "cell_type": "markdown",
      "metadata": {
        "id": "AwjzP4mbkZVI",
        "colab_type": "text"
      },
      "source": [
        "**6 Find the length of a string without using len functions**"
      ]
    },
    {
      "cell_type": "code",
      "metadata": {
        "id": "ghib2hz7kf3x",
        "colab_type": "code",
        "colab": {
          "base_uri": "https://localhost:8080/",
          "height": 68
        },
        "outputId": "339c1dcd-cd7c-4377-f0d8-fd4694106d6f"
      },
      "source": [
        "string=str(input(\"Enter string:\"))\n",
        "count=0\n",
        "for i in string:\n",
        "      count=count+1\n",
        "print(\"Length of the string is:\")\n",
        "print(count)"
      ],
      "execution_count": 13,
      "outputs": [
        {
          "output_type": "stream",
          "text": [
            "Enter string:hello\n",
            "Length of the string is:\n",
            "5\n"
          ],
          "name": "stdout"
        }
      ]
    },
    {
      "cell_type": "markdown",
      "metadata": {
        "id": "bEGHRh2okm5D",
        "colab_type": "text"
      },
      "source": [
        "**7 Find the no of words and characters in a string**"
      ]
    },
    {
      "cell_type": "code",
      "metadata": {
        "id": "QfTQoIlDkto6",
        "colab_type": "code",
        "colab": {
          "base_uri": "https://localhost:8080/",
          "height": 68
        },
        "outputId": "163fc380-a731-49a3-9ada-1045eb35cff7"
      },
      "source": [
        "def count(s):\n",
        "  c=0\n",
        "  a=s.split()\n",
        "  v=len(a)\n",
        "  for i in a:\n",
        "    c=c+len(i)\n",
        "  print(\"word count=\",v)\n",
        "  print(\"char count=\",c)\n",
        "s=str(input(\"enter the string:\"))\n",
        "count(s)\n",
        "\n"
      ],
      "execution_count": 16,
      "outputs": [
        {
          "output_type": "stream",
          "text": [
            "enter the string:hello everyone how are you\n",
            "word count= 5\n",
            "char count= 22\n"
          ],
          "name": "stdout"
        }
      ]
    },
    {
      "cell_type": "markdown",
      "metadata": {
        "id": "7ly5tURAlLfG",
        "colab_type": "text"
      },
      "source": [
        "**8 Find the no of occurrences of a word in a string**"
      ]
    },
    {
      "cell_type": "code",
      "metadata": {
        "id": "FLPOQzanlQCl",
        "colab_type": "code",
        "colab": {
          "base_uri": "https://localhost:8080/",
          "height": 68
        },
        "outputId": "17d4caeb-2504-4390-d27d-e6473a27f97e"
      },
      "source": [
        "def countOccurences(str, word): \n",
        "    a = str.split(\" \")  \n",
        "    count = 0\n",
        "    for i in range(0, len(a)):   \n",
        "        if (word == a[i]): \n",
        "           count = count + 1\n",
        "    return count        \n",
        "string =str(input(\"enter the string\"))\n",
        "word =str(input(\"enter the word\"))\n",
        "print(countOccurences(string, word))"
      ],
      "execution_count": 18,
      "outputs": [
        {
          "output_type": "stream",
          "text": [
            "enter the stringhello\n",
            "enter the wordl\n",
            "0\n"
          ],
          "name": "stdout"
        }
      ]
    }
  ]
}