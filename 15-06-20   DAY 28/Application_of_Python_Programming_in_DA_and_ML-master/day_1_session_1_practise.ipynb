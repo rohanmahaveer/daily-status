{
  "nbformat": 4,
  "nbformat_minor": 0,
  "metadata": {
    "colab": {
      "name": "day 1 session 1 practise.ipynb",
      "provenance": []
    },
    "kernelspec": {
      "name": "python3",
      "display_name": "Python 3"
    }
  },
  "cells": [
    {
      "cell_type": "markdown",
      "metadata": {
        "id": "VTYPmW_vq3Yw",
        "colab_type": "text"
      },
      "source": [
        "**Python Program to Add Two Numbers getting through key board**\n"
      ]
    },
    {
      "cell_type": "code",
      "metadata": {
        "id": "QeE8W1e4q_Y5",
        "colab_type": "code",
        "outputId": "78b6b182-beec-4fb5-e300-95766da1684c",
        "colab": {
          "base_uri": "https://localhost:8080/",
          "height": 68
        }
      },
      "source": [
        "# sum of two nos\n",
        "num1 = int(input(\"Enter first no\"))\n",
        "num2 = int(input(\"Enter second no\"))\n",
        "\n",
        "# Adding the two numbers\n",
        "sum = num1 + num2\n",
        "\n",
        "# Display the sum\n",
        "print('The sum of {0} and {1} is {2}'.format(num1, num2, sum))\n"
      ],
      "execution_count": 0,
      "outputs": [
        {
          "output_type": "stream",
          "text": [
            "Enter first no10\n",
            "Enter second no20\n",
            "The sum of 10 and 20 is 30\n"
          ],
          "name": "stdout"
        }
      ]
    },
    {
      "cell_type": "markdown",
      "metadata": {
        "id": "PQc7rlvFrlFM",
        "colab_type": "text"
      },
      "source": [
        "**Python program to check if the input year is a leap year or not**"
      ]
    },
    {
      "cell_type": "code",
      "metadata": {
        "id": "CmnpPdD1rtlb",
        "colab_type": "code",
        "outputId": "f20090be-c26c-4ccf-cfca-783cc74d7e3f",
        "colab": {
          "base_uri": "https://localhost:8080/",
          "height": 51
        }
      },
      "source": [
        "# To get year (integer input) from the user\n",
        "year = int(input(\"Enter a year: \"))\n",
        "\n",
        "if ((year % 4) == 0 and (year % 100)  != 0) or ((year % 400) == 0):\n",
        "           print(\"{0} is a leap year\".format(year))\n",
        "else:\n",
        "           print(\"{0} is not a leap year\".format(year))\n"
      ],
      "execution_count": 0,
      "outputs": [
        {
          "output_type": "stream",
          "text": [
            "Enter a year: 2001\n",
            "2001 is not a leap year\n"
          ],
          "name": "stdout"
        }
      ]
    },
    {
      "cell_type": "markdown",
      "metadata": {
        "id": "UL6I8F8ar4xV",
        "colab_type": "text"
      },
      "source": [
        "**Python Program to Generate a Random Number**"
      ]
    },
    {
      "cell_type": "code",
      "metadata": {
        "id": "8O0lD2JVsCUQ",
        "colab_type": "code",
        "outputId": "45f16438-ad41-4383-ef8f-eb40ea443810",
        "colab": {
          "base_uri": "https://localhost:8080/",
          "height": 34
        }
      },
      "source": [
        "import random\n",
        "print(random.randint(0,9))\n"
      ],
      "execution_count": 0,
      "outputs": [
        {
          "output_type": "stream",
          "text": [
            "2\n"
          ],
          "name": "stdout"
        }
      ]
    },
    {
      "cell_type": "markdown",
      "metadata": {
        "id": "9dYtTLKhsUzb",
        "colab_type": "text"
      },
      "source": [
        "**Python Program to Convert Kilometers to Miles**\n"
      ]
    },
    {
      "cell_type": "code",
      "metadata": {
        "id": "4xtlXlDGsnB0",
        "colab_type": "code",
        "outputId": "4143dcb6-08ad-4fcf-8b91-a50fd3960f20",
        "colab": {
          "base_uri": "https://localhost:8080/",
          "height": 51
        }
      },
      "source": [
        "# To take kilometers from the user, uncomment the code below\n",
        "kilometers = int(input(\"Enter value in kilometers\"))\n",
        "\n",
        "# conversion factor\n",
        "conv_fac = 0.621371\n",
        "\n",
        "# calculate miles\n",
        "miles = kilometers * conv_fac\n",
        "print('%0.3f kilometers is equal to %0.3f miles' %(kilometers,miles))\n"
      ],
      "execution_count": 0,
      "outputs": [
        {
          "output_type": "stream",
          "text": [
            "Enter value in kilometers5\n",
            "5.000 kilometers is equal to 3.107 miles\n"
          ],
          "name": "stdout"
        }
      ]
    },
    {
      "cell_type": "markdown",
      "metadata": {
        "id": "ENG9NiNcs2un",
        "colab_type": "text"
      },
      "source": [
        "**Python Program to Solve Quadratic Equation**"
      ]
    },
    {
      "cell_type": "code",
      "metadata": {
        "id": "TDWkKtGts9cl",
        "colab_type": "code",
        "outputId": "5d9e7931-df8a-481a-dcd6-bb4f768de56e",
        "colab": {
          "base_uri": "https://localhost:8080/",
          "height": 85
        }
      },
      "source": [
        "# Solve the quadratic equation ax**2 + bx + c = 0\n",
        "# importing  complex math module\n",
        "import cmath\n",
        "\n",
        " # To take coefficient input from the users\n",
        "a = float(input('Enter a: '))\n",
        "b = float(input('Enter b: '))\n",
        "c = float(input('Enter c: '))\n",
        "\n",
        "# calculate the discriminant\n",
        "d = (b**2) - (4*a*c)\n",
        "\n",
        "# find two solutions\n",
        "sol1 = (-b-cmath.sqrt(d))/(2*a)\n",
        "sol2 = (-b+cmath.sqrt(d))/(2*a)\n",
        "\n",
        "print('The solution are {0} and {1}'.format(sol1,sol2))\n"
      ],
      "execution_count": 3,
      "outputs": [
        {
          "output_type": "stream",
          "text": [
            "Enter a: 4\n",
            "Enter b: 2\n",
            "Enter c: 1\n",
            "The solution are (-0.25-0.4330127018922193j) and (-0.25+0.4330127018922193j)\n"
          ],
          "name": "stdout"
        }
      ]
    },
    {
      "cell_type": "markdown",
      "metadata": {
        "id": "QWz0uGPqtPmg",
        "colab_type": "text"
      },
      "source": [
        "**Python Program to find prime or not using function** "
      ]
    },
    {
      "cell_type": "markdown",
      "metadata": {
        "id": "hdtTx6w-_wkH",
        "colab_type": "text"
      },
      "source": [
        ""
      ]
    },
    {
      "cell_type": "code",
      "metadata": {
        "id": "cu0bmpOVscPd",
        "colab_type": "code",
        "outputId": "246f565f-4f45-40cf-9ddd-f4835a9a28a7",
        "colab": {
          "base_uri": "https://localhost:8080/",
          "height": 51
        }
      },
      "source": [
        "def test_prime(n):\n",
        "    if (n==1):\n",
        "        return False\n",
        "    elif (n==2):\n",
        "        return True;\n",
        "    else:\n",
        "        for x in range(2,n):\n",
        "            if(n % x==0):\n",
        "                return False\n",
        "        return True\n",
        "no=int(input(\"Enter the number\"))\n",
        "if (test_prime(no)) is True :\n",
        "    print(\" {0} is a prime no\".format(no))\n",
        "else:\n",
        "     print(\" {0} is not a prime no\".format(no))\n",
        "\n"
      ],
      "execution_count": 0,
      "outputs": [
        {
          "output_type": "stream",
          "text": [
            "Enter the number7\n",
            " 7 is a prime no\n"
          ],
          "name": "stdout"
        }
      ]
    },
    {
      "cell_type": "markdown",
      "metadata": {
        "id": "O5LLSNVdtgSe",
        "colab_type": "text"
      },
      "source": [
        "**Calculator program**"
      ]
    },
    {
      "cell_type": "code",
      "metadata": {
        "id": "cyL9UygCto4G",
        "colab_type": "code",
        "outputId": "01c97182-53b5-4923-9dd2-01ea33353cc8",
        "colab": {
          "base_uri": "https://localhost:8080/",
          "height": 1000
        }
      },
      "source": [
        "loop = 1 # 1 means loop; anything else means don't loop.\n",
        "choice = 0 # This variable holds the user's choice in the menu\n",
        "\n",
        "def add(a,b):\n",
        "    return a+b \n",
        "def sub(a,b):\n",
        "    return a-b\n",
        "def mul(a,b):\n",
        "    return a*b\n",
        "def div(a,b):\n",
        "    return a/b\n",
        "\n",
        "while loop == 1:\n",
        "    # Print what options you have\n",
        "    print (\"Welcome to calculator.py\")\n",
        "    print (\"your options are:\")\n",
        "    print (\" \")\n",
        "    print(\"1) Addition\")\n",
        "    print(\"2) Subtraction\")\n",
        "    print(\"3) Multiplication\")\n",
        "    print(\"4) Division\")\n",
        "    print(\"5) Quit calculator.py\")\n",
        "    print(\" \")\n",
        "    if (1):\n",
        "        choice = int(input(\"Choose your option: \"))\n",
        "        print(\" \")\n",
        "        print(\" \")\n",
        "        if choice == 1:\n",
        "            x = int(input(\"Enter 1st no: \"))\n",
        "            y = int(input(\"Enter 2nd no: \"))\n",
        "            print(\"The answer is \",add(x,y))\n",
        "\n",
        "        elif choice == 2:\n",
        "              x = int(input(\"Enter 1st no: \"))\n",
        "              y = int(input(\"Enter 2nd no: \"))\n",
        "              print(\"answer is \",sub(x,y))\n",
        "  \n",
        "        elif choice == 3:\n",
        "              x = int(input(\"Enter 1st no: \"))\n",
        "              y = int(input(\"Enter 2nd no: \"))\n",
        "              print(\"answer is \",mul(x,y))\n",
        "\n",
        "        elif choice == 4:\n",
        "            x = int(input(\"Enter 1st no: \"))\n",
        "            y = int(input(\"Enter 2nd no: \"))\n",
        "            print(\"answer is \",div(x,y))\n",
        "        \n",
        "        elif choice == 5:\n",
        "            loop = 0\n",
        "     \n",
        "        else:\n",
        "              print(\"please choice a valid option from 1 to 5\")\n",
        "              choice=0\n",
        "print (\"Thank-you for using calculator.py!\")\n"
      ],
      "execution_count": 3,
      "outputs": [
        {
          "output_type": "stream",
          "text": [
            "Welcome to calculator.py\n",
            "your options are:\n",
            " \n",
            "1) Addition\n",
            "2) Subtraction\n",
            "3) Multiplication\n",
            "4) Division\n",
            "5) Quit calculator.py\n",
            " \n",
            "Choose your option: 1\n",
            " \n",
            " \n",
            "Enter 1st no: 3\n",
            "Enter 2nd no: 2\n",
            "The answer is  5\n",
            "Welcome to calculator.py\n",
            "your options are:\n",
            " \n",
            "1) Addition\n",
            "2) Subtraction\n",
            "3) Multiplication\n",
            "4) Division\n",
            "5) Quit calculator.py\n",
            " \n",
            "Choose your option: 2\n",
            " \n",
            " \n",
            "Enter 1st no: 6\n",
            "Enter 2nd no: 4\n",
            "answer is  2\n",
            "Welcome to calculator.py\n",
            "your options are:\n",
            " \n",
            "1) Addition\n",
            "2) Subtraction\n",
            "3) Multiplication\n",
            "4) Division\n",
            "5) Quit calculator.py\n",
            " \n",
            "Choose your option: 3\n",
            " \n",
            " \n",
            "Enter 1st no: 9\n",
            "Enter 2nd no: 9\n",
            "answer is  81\n",
            "Welcome to calculator.py\n",
            "your options are:\n",
            " \n",
            "1) Addition\n",
            "2) Subtraction\n",
            "3) Multiplication\n",
            "4) Division\n",
            "5) Quit calculator.py\n",
            " \n",
            "Choose your option: 4\n",
            " \n",
            " \n",
            "Enter 1st no: 4\n",
            "Enter 2nd no: 2\n",
            "answer is  2.0\n",
            "Welcome to calculator.py\n",
            "your options are:\n",
            " \n",
            "1) Addition\n",
            "2) Subtraction\n",
            "3) Multiplication\n",
            "4) Division\n",
            "5) Quit calculator.py\n",
            " \n",
            "Choose your option: 5\n",
            " \n",
            " \n",
            "Thank-you for using calculator.py!\n"
          ],
          "name": "stdout"
        }
      ]
    },
    {
      "cell_type": "markdown",
      "metadata": {
        "id": "wxWbnW9h_5-v",
        "colab_type": "text"
      },
      "source": [
        "**Python program to find compound interest**"
      ]
    },
    {
      "cell_type": "code",
      "metadata": {
        "id": "E1_20f_5__M3",
        "colab_type": "code",
        "colab": {
          "base_uri": "https://localhost:8080/",
          "height": 136
        },
        "outputId": "bcd96526-f7be-4c06-d547-c818492f7120"
      },
      "source": [
        "p = float(input(\"Enter the principle amount : \"))\n",
        "r = float(input(\"Enter the rate of interest : \"))\n",
        "t = float(input(\"Enter the time in the years: \"))\n",
        "\n",
        "# calculating compound interest\n",
        "ci =  p * (pow((1 + r / 100), t)) \n",
        "\n",
        "# printing the values\n",
        "print(\"Principle amount  : \", p)\n",
        "print(\"Interest rate     : \", r)\n",
        "print(\"Time in years     : \", t)\n",
        "print(\"compound Interest : \", ci)"
      ],
      "execution_count": 4,
      "outputs": [
        {
          "output_type": "stream",
          "text": [
            "Enter the principle amount : 100\n",
            "Enter the rate of interest : 2\n",
            "Enter the time in the years: 1\n",
            "Principle amount  :  100.0\n",
            "Interest rate     :  2.0\n",
            "Time in years     :  1.0\n",
            "compound Interest :  102.0\n"
          ],
          "name": "stdout"
        }
      ]
    },
    {
      "cell_type": "markdown",
      "metadata": {
        "id": "edBmA25RAJf5",
        "colab_type": "text"
      },
      "source": [
        "**Convert centegrade to farenheit**"
      ]
    },
    {
      "cell_type": "code",
      "metadata": {
        "id": "Fz_ymgQPAXu_",
        "colab_type": "code",
        "colab": {
          "base_uri": "https://localhost:8080/",
          "height": 51
        },
        "outputId": "97923ee1-d557-4a02-8c2c-73212f07fb95"
      },
      "source": [
        "celsius = float(input(\"Enter temperature in celsius: \"))\n",
        "fahrenheit = (celsius * 9/5) + 32\n",
        "print('%.2f Celsius is: %0.2f Fahrenheit' %(celsius, fahrenheit))"
      ],
      "execution_count": 5,
      "outputs": [
        {
          "output_type": "stream",
          "text": [
            "Enter temperature in celsius: 42\n",
            "42.00 Celsius is: 107.60 Fahrenheit\n"
          ],
          "name": "stdout"
        }
      ]
    },
    {
      "cell_type": "markdown",
      "metadata": {
        "id": "f8uRSaOtAkQE",
        "colab_type": "text"
      },
      "source": [
        "**Greatest of two number**"
      ]
    },
    {
      "cell_type": "code",
      "metadata": {
        "id": "gu64wvNRAob2",
        "colab_type": "code",
        "colab": {
          "base_uri": "https://localhost:8080/",
          "height": 51
        },
        "outputId": "72ffb2da-7ae6-4f21-92a3-3cdf19ac9ffa"
      },
      "source": [
        "a,b = input('Enter two numbers: ').split(' ')\n",
        "a = int(a); b = int(b)\n",
        "if a>b:\n",
        "\tprint(a)\n",
        "else:\n",
        "\tprint(b)"
      ],
      "execution_count": 7,
      "outputs": [
        {
          "output_type": "stream",
          "text": [
            "Enter two numbers: 4 5\n",
            "5\n"
          ],
          "name": "stdout"
        }
      ]
    },
    {
      "cell_type": "markdown",
      "metadata": {
        "id": "LLpbeJ-RA1-Q",
        "colab_type": "text"
      },
      "source": [
        "**Write a program for finding surface areas of cylinder and cone (2PIrrh, 1/3PIrrh) using function**"
      ]
    },
    {
      "cell_type": "code",
      "metadata": {
        "id": "_JpcqbT4A7dV",
        "colab_type": "code",
        "colab": {
          "base_uri": "https://localhost:8080/",
          "height": 102
        },
        "outputId": "a9601650-e6ba-4bfb-ca68-3147ae03eeb4"
      },
      "source": [
        "import math \n",
        "pi = math.pi \n",
        "  \n",
        "# Function to calculate Volume of Cone \n",
        "def volume(r, h): \n",
        "    return (1 / 3) * pi * r * r * h \n",
        "  \n",
        "# Function To Calculate Surface Area of Cone \n",
        "def surfacearea(r, s): \n",
        "    return pi * r * s + pi * r * r \n",
        "  \n",
        "# Driver Code \n",
        "radius = int(input()) \n",
        "height = int(input())\n",
        "slat_height = int(input()) \n",
        "print( \"Volume Of Cone : \", volume(radius, height) ) \n",
        "print( \"Surface Area Of Cone : \", surfacearea(radius, slat_height) )"
      ],
      "execution_count": 8,
      "outputs": [
        {
          "output_type": "stream",
          "text": [
            "5\n",
            "10\n",
            "5\n",
            "Volume Of Cone :  261.79938779914943\n",
            "Surface Area Of Cone :  157.07963267948966\n"
          ],
          "name": "stdout"
        }
      ]
    },
    {
      "cell_type": "markdown",
      "metadata": {
        "id": "T06E1XswKQWQ",
        "colab_type": "text"
      },
      "source": [
        "**Largest of 4 no**"
      ]
    },
    {
      "cell_type": "code",
      "metadata": {
        "id": "PMlvl9lHKTx_",
        "colab_type": "code",
        "colab": {
          "base_uri": "https://localhost:8080/",
          "height": 102
        },
        "outputId": "996a2299-4ad1-4771-a181-da5c1d64fd71"
      },
      "source": [
        "m1=int(input(\"Enter 1st number\"))\n",
        "m2=int(input(\"Enter 2nd number\"))\n",
        "m3=int(input(\"Enter 3rd number\"))\n",
        "m4=int(input(\"Enter 4th number\"))\n",
        " \n",
        "large=m1\n",
        "small=m2\n",
        "if m2>large:\n",
        "\tlarge=m2\n",
        "if m3>large:\n",
        "\tlarge=m3\n",
        "if m4>large:\n",
        "\tlarge=m4\n",
        "print(\"largest number is =\",large)"
      ],
      "execution_count": 9,
      "outputs": [
        {
          "output_type": "stream",
          "text": [
            "Enter 1st number1\n",
            "Enter 2nd number10\n",
            "Enter 3rd number20\n",
            "Enter 4th number15\n",
            "largest number is = 20\n"
          ],
          "name": "stdout"
        }
      ]
    },
    {
      "cell_type": "markdown",
      "metadata": {
        "id": "v-LVefqPKd2J",
        "colab_type": "text"
      },
      "source": [
        "**menu program for odd even or factorial or odd no upto n or prime no upto n**"
      ]
    },
    {
      "cell_type": "code",
      "metadata": {
        "id": "VCCCyOPqKjrz",
        "colab_type": "code",
        "colab": {
          "base_uri": "https://localhost:8080/",
          "height": 986
        },
        "outputId": "abfcd9cb-2e2f-4a4e-8ea0-fe8f49c26b53"
      },
      "source": [
        "loop = 1 \n",
        "choice = 0\n",
        "def odd_even(x):\n",
        "  if x%2==0:\n",
        "    return True\n",
        "  else:\n",
        "    return False\n",
        "\n",
        "def fact(x):\n",
        "  if(x==0):\n",
        "    return 1\n",
        "  else:\n",
        "    return x*fact(x-1)\n",
        "\n",
        "def OddUpto(x):\n",
        "  for num in range(1,x+1):\n",
        "    if num % 2 != 0: \n",
        "        print(num, end = \" \")\n",
        "  print(\" \") \n",
        "  print(\" \") \n",
        "\n",
        "def PrimeUpto(x):\n",
        "  for num in range(2,x+1):\n",
        "    i = 2\n",
        "    for i in range(2, num):\n",
        "        if(num % i == 0):\n",
        "            i = num\n",
        "            break;\n",
        "    if(i != num):\n",
        "        print(num, end=\" \")\n",
        "  print(\" \") \n",
        "  print(\" \") \n",
        "while loop == 1:\n",
        "  print(\"Menu:\") \n",
        "  print(\"\")\n",
        "  print(\"1) Odd or Even\")\n",
        "  print(\"2) Factorial\")\n",
        "  print(\"3) Odd number Upto N\")\n",
        "  print(\"4) Prime number Upto N \")\n",
        "  print(\"5) Quit\")\n",
        "  print(\"\")\n",
        "  try:\n",
        "    choice = int(input(\"Choose your option: \"))\n",
        "  except:\n",
        "    print('please enter a valid number for option')\n",
        "    print(\"\")\n",
        "    print(\"\")\n",
        "  if choice == 1:\n",
        "    x = int(input(\"Enter a value: \"))\n",
        "    if odd_even(x):\n",
        "      print(x,\" is even\")\n",
        "    else:\n",
        "      print(x,\" is odd\")\n",
        "\n",
        "  elif choice == 2:\n",
        "    x = int(input(\"Enter a value: \"))\n",
        "    print(\"Factorial of \",x,\" is \",fact(x))\n",
        "\n",
        "  elif choice == 3:\n",
        "    x = int(input(\"Enter a value: \"))\n",
        "    print(\"Odd numbers upto \",x,\" are:\")\n",
        "    OddUpto(x)\n",
        "\n",
        "  elif choice == 4:\n",
        "    x = int(input(\"Enter a value: \"))\n",
        "    print(\"Prime numbers upto \",x,\" are:\")\n",
        "    PrimeUpto(x)\n",
        "  elif choice == 5:\n",
        "    loop = 0\n",
        "\n",
        "  else:\n",
        "    print(\"please choice a valid option from 1 to 5\")\n",
        "    choice=0"
      ],
      "execution_count": 10,
      "outputs": [
        {
          "output_type": "stream",
          "text": [
            "Menu:\n",
            "\n",
            "1) Odd or Even\n",
            "2) Factorial\n",
            "3) Odd number Upto N\n",
            "4) Prime number Upto N \n",
            "5) Quit\n",
            "\n",
            "Choose your option: 1\n",
            "Enter a value: 10\n",
            "10  is even\n",
            "Menu:\n",
            "\n",
            "1) Odd or Even\n",
            "2) Factorial\n",
            "3) Odd number Upto N\n",
            "4) Prime number Upto N \n",
            "5) Quit\n",
            "\n",
            "Choose your option: 2\n",
            "Enter a value: 5\n",
            "Factorial of  5  is  120\n",
            "Menu:\n",
            "\n",
            "1) Odd or Even\n",
            "2) Factorial\n",
            "3) Odd number Upto N\n",
            "4) Prime number Upto N \n",
            "5) Quit\n",
            "\n",
            "Choose your option: 3\n",
            "Enter a value: 20\n",
            "Odd numbers upto  20  are:\n",
            "1 3 5 7 9 11 13 15 17 19  \n",
            " \n",
            "Menu:\n",
            "\n",
            "1) Odd or Even\n",
            "2) Factorial\n",
            "3) Odd number Upto N\n",
            "4) Prime number Upto N \n",
            "5) Quit\n",
            "\n",
            "Choose your option: 4\n",
            "Enter a value: 1\n",
            "Prime numbers upto  1  are:\n",
            " \n",
            " \n",
            "Menu:\n",
            "\n",
            "1) Odd or Even\n",
            "2) Factorial\n",
            "3) Odd number Upto N\n",
            "4) Prime number Upto N \n",
            "5) Quit\n",
            "\n",
            "Choose your option: 5\n"
          ],
          "name": "stdout"
        }
      ]
    }
  ]
}